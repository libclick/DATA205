{
  "nbformat": 4,
  "nbformat_minor": 0,
  "metadata": {
    "colab": {
      "name": "MONTGOMERY_COUNTY_MD_COUNTING_OUR_TOWS_addendum_to_correct_SMOTE_issue_in_Anaconda",
      "provenance": [],
      "collapsed_sections": [],
      "authorship_tag": "ABX9TyPZLYZHe5/WQbaY5XsJ1xSu",
      "include_colab_link": true
    },
    "kernelspec": {
      "name": "python3",
      "display_name": "Python 3"
    },
    "language_info": {
      "name": "python"
    }
  },
  "cells": [
    {
      "cell_type": "markdown",
      "metadata": {
        "id": "view-in-github",
        "colab_type": "text"
      },
      "source": [
        "<a href=\"https://colab.research.google.com/github/libclick/DATA205/blob/main/MONTGOMERY_COUNTY_MD_COUNTING_OUR_TOWS_addendum_to_correct_SMOTE_issue_in_Anaconda.ipynb\" target=\"_parent\"><img src=\"https://colab.research.google.com/assets/colab-badge.svg\" alt=\"Open In Colab\"/></a>"
      ]
    },
    {
      "cell_type": "code",
      "metadata": {
        "colab": {
          "base_uri": "https://localhost:8080/"
        },
        "id": "-XMzBp_A2-34",
        "outputId": "6c9b51c0-8e8f-4e76-ca8d-d60d04f6f836"
      },
      "source": [
        "import pandas as pd\n",
        "import numpy as np\n",
        "import matplotlib.pyplot as plt\n",
        "plt.rcParams[\"figure.figsize\"] = (10,5)\n",
        "import seaborn as sns\n",
        "import re\n",
        "import json\n",
        "import requests\n",
        "import subprocess\n",
        "import glob\n",
        "import os\n",
        "import scipy.stats as stats\n",
        "import sklearn\n",
        "from sklearn.linear_model import LogisticRegression\n",
        "from sklearn.model_selection import train_test_split\n",
        "from sklearn.metrics import classification_report, confusion_matrix\n",
        "from sklearn.metrics import roc_auc_score, roc_curve, accuracy_score\n",
        "from sklearn.metrics import precision_score, recall_score\n",
        "from sklearn.metrics import f1_score \n",
        "from sklearn import preprocessing\n",
        "from sklearn.preprocessing import StandardScaler\n",
        "import tensorflow\n",
        "import imblearn\n",
        "from imblearn.over_sampling import SMOTE"
      ],
      "execution_count": null,
      "outputs": [
        {
          "output_type": "stream",
          "text": [
            "/usr/local/lib/python3.7/dist-packages/sklearn/externals/six.py:31: FutureWarning: The module is deprecated in version 0.21 and will be removed in version 0.23 since we've dropped support for Python 2.7. Please rely on the official version of six (https://pypi.org/project/six/).\n",
            "  \"(https://pypi.org/project/six/).\", FutureWarning)\n",
            "/usr/local/lib/python3.7/dist-packages/sklearn/utils/deprecation.py:144: FutureWarning: The sklearn.neighbors.base module is  deprecated in version 0.22 and will be removed in version 0.24. The corresponding classes / functions should instead be imported from sklearn.neighbors. Anything that cannot be imported from sklearn.neighbors is now part of the private API.\n",
            "  warnings.warn(message, FutureWarning)\n"
          ],
          "name": "stderr"
        }
      ]
    },
    {
      "cell_type": "code",
      "metadata": {
        "id": "WOsgCG_l4YN4"
      },
      "source": [
        "#Read in Logistic Regression dataset output from 'MONTGOMERY COUNTY MD COUNTING OUR TOWS 2of2\" in GitHub\n",
        "lr_df = pd.read_csv(\"lr_df.csv\")"
      ],
      "execution_count": null,
      "outputs": []
    },
    {
      "cell_type": "code",
      "metadata": {
        "colab": {
          "base_uri": "https://localhost:8080/",
          "height": 419
        },
        "id": "Gp2MOQSK4YZ_",
        "outputId": "74351f4e-c1bc-4027-8593-38928221e019"
      },
      "source": [
        "lr_df"
      ],
      "execution_count": null,
      "outputs": [
        {
          "output_type": "execute_result",
          "data": {
            "text/html": [
              "<div>\n",
              "<style scoped>\n",
              "    .dataframe tbody tr th:only-of-type {\n",
              "        vertical-align: middle;\n",
              "    }\n",
              "\n",
              "    .dataframe tbody tr th {\n",
              "        vertical-align: top;\n",
              "    }\n",
              "\n",
              "    .dataframe thead th {\n",
              "        text-align: right;\n",
              "    }\n",
              "</style>\n",
              "<table border=\"1\" class=\"dataframe\">\n",
              "  <thead>\n",
              "    <tr style=\"text-align: right;\">\n",
              "      <th></th>\n",
              "      <th>hh_income</th>\n",
              "      <th>black_rate</th>\n",
              "      <th>redzone</th>\n",
              "    </tr>\n",
              "  </thead>\n",
              "  <tbody>\n",
              "    <tr>\n",
              "      <th>0</th>\n",
              "      <td>56677</td>\n",
              "      <td>0.260183</td>\n",
              "      <td>1</td>\n",
              "    </tr>\n",
              "    <tr>\n",
              "      <th>1</th>\n",
              "      <td>56677</td>\n",
              "      <td>0.260183</td>\n",
              "      <td>1</td>\n",
              "    </tr>\n",
              "    <tr>\n",
              "      <th>2</th>\n",
              "      <td>56677</td>\n",
              "      <td>0.260183</td>\n",
              "      <td>0</td>\n",
              "    </tr>\n",
              "    <tr>\n",
              "      <th>3</th>\n",
              "      <td>56677</td>\n",
              "      <td>0.260183</td>\n",
              "      <td>1</td>\n",
              "    </tr>\n",
              "    <tr>\n",
              "      <th>4</th>\n",
              "      <td>56677</td>\n",
              "      <td>0.260183</td>\n",
              "      <td>1</td>\n",
              "    </tr>\n",
              "    <tr>\n",
              "      <th>...</th>\n",
              "      <td>...</td>\n",
              "      <td>...</td>\n",
              "      <td>...</td>\n",
              "    </tr>\n",
              "    <tr>\n",
              "      <th>5876</th>\n",
              "      <td>137330</td>\n",
              "      <td>0.171324</td>\n",
              "      <td>0</td>\n",
              "    </tr>\n",
              "    <tr>\n",
              "      <th>5877</th>\n",
              "      <td>137330</td>\n",
              "      <td>0.171324</td>\n",
              "      <td>0</td>\n",
              "    </tr>\n",
              "    <tr>\n",
              "      <th>5878</th>\n",
              "      <td>137330</td>\n",
              "      <td>0.171324</td>\n",
              "      <td>0</td>\n",
              "    </tr>\n",
              "    <tr>\n",
              "      <th>5879</th>\n",
              "      <td>152875</td>\n",
              "      <td>0.212949</td>\n",
              "      <td>0</td>\n",
              "    </tr>\n",
              "    <tr>\n",
              "      <th>5880</th>\n",
              "      <td>152875</td>\n",
              "      <td>0.212949</td>\n",
              "      <td>1</td>\n",
              "    </tr>\n",
              "  </tbody>\n",
              "</table>\n",
              "<p>5881 rows × 3 columns</p>\n",
              "</div>"
            ],
            "text/plain": [
              "      hh_income  black_rate  redzone\n",
              "0         56677    0.260183        1\n",
              "1         56677    0.260183        1\n",
              "2         56677    0.260183        0\n",
              "3         56677    0.260183        1\n",
              "4         56677    0.260183        1\n",
              "...         ...         ...      ...\n",
              "5876     137330    0.171324        0\n",
              "5877     137330    0.171324        0\n",
              "5878     137330    0.171324        0\n",
              "5879     152875    0.212949        0\n",
              "5880     152875    0.212949        1\n",
              "\n",
              "[5881 rows x 3 columns]"
            ]
          },
          "metadata": {
            "tags": []
          },
          "execution_count": 9
        }
      ]
    },
    {
      "cell_type": "code",
      "metadata": {
        "id": "KG0XxRES4YiD"
      },
      "source": [
        "#REPEAT: TO BALANCE DATA, USE SMOTE WHICH WAS CONFLICTING OUT IN ANACONDA\n",
        "#Set features X and target y datasets\n",
        "X = lr_df.iloc[:,0:-1] \n",
        "y = lr_df[\"redzone\"]\n"
      ],
      "execution_count": null,
      "outputs": []
    },
    {
      "cell_type": "code",
      "metadata": {
        "id": "x7OT3DN94YpX"
      },
      "source": [
        "#Break data into train and test using 10%\n",
        "X_train,X_test,y_train,y_test=train_test_split(X,y,test_size=0.20,random_state=0)"
      ],
      "execution_count": null,
      "outputs": []
    },
    {
      "cell_type": "code",
      "metadata": {
        "colab": {
          "base_uri": "https://localhost:8080/"
        },
        "id": "R8A94Yl66gm2",
        "outputId": "ff859919-eb6f-4b92-dd60-43d3893ddbda"
      },
      "source": [
        "# view our existing split fr sets 80:20 ratio\n",
        "\n",
        "print(\"Number transactions X_train dataset: \", X_train.shape)\n",
        "print(\"Number transactions y_train dataset: \", y_train.shape)\n",
        "print(\"Number transactions X_test dataset: \", X_test.shape)\n",
        "print(\"Number transactions y_test dataset: \", y_test.shape)"
      ],
      "execution_count": null,
      "outputs": [
        {
          "output_type": "stream",
          "text": [
            "Number transactions X_train dataset:  (4704, 2)\n",
            "Number transactions y_train dataset:  (4704,)\n",
            "Number transactions X_test dataset:  (1177, 2)\n",
            "Number transactions y_test dataset:  (1177,)\n"
          ],
          "name": "stdout"
        }
      ]
    },
    {
      "cell_type": "code",
      "metadata": {
        "colab": {
          "base_uri": "https://localhost:8080/"
        },
        "id": "NggTFKpV6gpn",
        "outputId": "c7cf1eae-d22d-4df0-d335-12190985ab11"
      },
      "source": [
        "#Use SMOTE for balancing\n",
        "print(\"Before OverSampling, counts of label '1': {}\".format(sum(y_train == 1)))\n",
        "print(\"Before OverSampling, counts of label '0': {} \\n\".format(sum(y_train == 0)))"
      ],
      "execution_count": null,
      "outputs": [
        {
          "output_type": "stream",
          "text": [
            "Before OverSampling, counts of label '1': 403\n",
            "Before OverSampling, counts of label '0': 4301 \n",
            "\n"
          ],
          "name": "stdout"
        }
      ]
    },
    {
      "cell_type": "code",
      "metadata": {
        "colab": {
          "base_uri": "https://localhost:8080/"
        },
        "id": "7IybIgJN6gsI",
        "outputId": "c5312dbc-4d4d-4eaa-efa0-e599bc4386ec"
      },
      "source": [
        "sm = SMOTE(random_state = 2)\n",
        "X_train_res, y_train_res = sm.fit_sample(X_train, y_train.ravel())\n",
        "  \n",
        "print('After OverSampling, the shape of train_X: {}'.format(X_train_res.shape))\n",
        "print('After OverSampling, the shape of train_y: {} \\n'.format(y_train_res.shape))\n",
        "  \n",
        "print(\"After OverSampling, counts of label '1': {}\".format(sum(y_train_res == 1)))\n",
        "print(\"After OverSampling, counts of label '0': {}\".format(sum(y_train_res == 0)))"
      ],
      "execution_count": null,
      "outputs": [
        {
          "output_type": "stream",
          "text": [
            "After OverSampling, the shape of train_X: (8602, 2)\n",
            "After OverSampling, the shape of train_y: (8602,) \n",
            "\n",
            "After OverSampling, counts of label '1': 4301\n",
            "After OverSampling, counts of label '0': 4301\n"
          ],
          "name": "stdout"
        },
        {
          "output_type": "stream",
          "text": [
            "/usr/local/lib/python3.7/dist-packages/sklearn/utils/deprecation.py:87: FutureWarning: Function safe_indexing is deprecated; safe_indexing is deprecated in version 0.22 and will be removed in version 0.24.\n",
            "  warnings.warn(msg, category=FutureWarning)\n"
          ],
          "name": "stderr"
        }
      ]
    },
    {
      "cell_type": "code",
      "metadata": {
        "id": "zBTI9CiS653S"
      },
      "source": [
        "LogReg = LogisticRegression()\n",
        "\n",
        "\n",
        "scaler = preprocessing.StandardScaler()\n",
        "X_train_res = scaler.fit_transform(X_train_res)\n",
        "X_test = scaler.transform(X_test)\n",
        "\n",
        "LogReg.fit(X_train_res,y_train_res)\n",
        "\n",
        "\n",
        "y_pred=LogReg.predict(X_test)"
      ],
      "execution_count": null,
      "outputs": []
    },
    {
      "cell_type": "code",
      "metadata": {
        "colab": {
          "base_uri": "https://localhost:8080/"
        },
        "id": "IB1Xy-C67Fvj",
        "outputId": "5d29a928-8f08-4e22-ba59-aa2e9c124e38"
      },
      "source": [
        "print('Classes', LogReg.classes_)\n",
        "print('Intercept',LogReg.intercept_)\n",
        "print(\"Coefficients\", LogReg.coef_ )\n"
      ],
      "execution_count": null,
      "outputs": [
        {
          "output_type": "stream",
          "text": [
            "Classes [0 1]\n",
            "Intercept [-0.00127805]\n",
            "Coefficients [[-0.2497516   0.08404098]]\n"
          ],
          "name": "stdout"
        }
      ]
    },
    {
      "cell_type": "code",
      "metadata": {
        "colab": {
          "base_uri": "https://localhost:8080/"
        },
        "id": "20N3UyQq7F09",
        "outputId": "7a677c2c-e02b-47ba-eef8-3745c28dabce"
      },
      "source": [
        "print(classification_report(y_test, LogReg.predict(X_test)))\n"
      ],
      "execution_count": null,
      "outputs": [
        {
          "output_type": "stream",
          "text": [
            "              precision    recall  f1-score   support\n",
            "\n",
            "           0       0.93      0.50      0.65      1053\n",
            "           1       0.14      0.69      0.23       124\n",
            "\n",
            "    accuracy                           0.52      1177\n",
            "   macro avg       0.53      0.59      0.44      1177\n",
            "weighted avg       0.85      0.52      0.60      1177\n",
            "\n"
          ],
          "name": "stdout"
        }
      ]
    },
    {
      "cell_type": "code",
      "metadata": {
        "colab": {
          "base_uri": "https://localhost:8080/"
        },
        "id": "hqVeEdCG7F4Y",
        "outputId": "d36d7aed-6ecc-4dd3-b847-07c61614f6d2"
      },
      "source": [
        "conf_mat = confusion_matrix(y_test, y_pred)\n",
        "conf_mat"
      ],
      "execution_count": null,
      "outputs": [
        {
          "output_type": "execute_result",
          "data": {
            "text/plain": [
              "array([[524, 529],\n",
              "       [ 39,  85]])"
            ]
          },
          "metadata": {
            "tags": []
          },
          "execution_count": 19
        }
      ]
    },
    {
      "cell_type": "code",
      "metadata": {
        "colab": {
          "base_uri": "https://localhost:8080/",
          "height": 414
        },
        "id": "eBYTAwtp7jzK",
        "outputId": "958c1141-f4ce-4fac-d03c-31996b19f3b4"
      },
      "source": [
        "categories = [0,1] \n",
        "fig, ax = plt.subplots()\n",
        "plt.xticks([0,1], categories)\n",
        "plt.yticks([0,1], categories)\n",
        "# create heatmap\n",
        "sns.heatmap(pd.DataFrame(conf_mat), annot=True, cmap=\"YlGnBu\" ,fmt='g')\n",
        "ax.xaxis.set_label_position(\"top\")\n",
        "plt.tight_layout()\n",
        "plt.title('Confusion matrix', y=1.1)\n",
        "plt.ylabel('Actual label')\n",
        "plt.xlabel('Predicted label')"
      ],
      "execution_count": null,
      "outputs": [
        {
          "output_type": "execute_result",
          "data": {
            "text/plain": [
              "Text(0.5, 320.8, 'Predicted label')"
            ]
          },
          "metadata": {
            "tags": []
          },
          "execution_count": 20
        },
        {
          "output_type": "display_data",
          "data": {
            "image/png": "[encoded data removed]",
            "text/plain": [
              "<Figure size 720x360 with 2 Axes>"
            ]
          },
          "metadata": {
            "tags": [],
            "needs_background": "light"
          }
        }
      ]
    },
    {
      "cell_type": "code",
      "metadata": {
        "colab": {
          "base_uri": "https://localhost:8080/"
        },
        "id": "zeNjWzNr7vZY",
        "outputId": "ca15fc3a-7f60-4118-cddb-2dffd11b16cd"
      },
      "source": [
        "print(\"Accuracy:\", accuracy_score(y_test, y_pred))\n",
        "print(\"Precision:\", precision_score(y_test, y_pred))\n",
        "print(\"Recall:\", recall_score(y_test, y_pred))\n",
        "85/(85+39) #recall calc: fair at predicting true negatives = at_risk propertries in MC"
      ],
      "execution_count": null,
      "outputs": [
        {
          "output_type": "stream",
          "text": [
            "Accuracy: 0.5174171622769753\n",
            "Precision: 0.13843648208469056\n",
            "Recall: 0.6854838709677419\n"
          ],
          "name": "stdout"
        },
        {
          "output_type": "execute_result",
          "data": {
            "text/plain": [
              "0.6854838709677419"
            ]
          },
          "metadata": {
            "tags": []
          },
          "execution_count": 23
        }
      ]
    },
    {
      "cell_type": "code",
      "metadata": {
        "colab": {
          "base_uri": "https://localhost:8080/",
          "height": 350
        },
        "id": "vSOk1OXa7vj1",
        "outputId": "2822eedd-5f49-4be6-afdd-f505995eb786"
      },
      "source": [
        "y_pred_proba = LogReg.predict_proba(X_test)[::,1]\n",
        "fpr, tpr, _ = roc_curve(y_test,  y_pred_proba)\n",
        "auc = roc_auc_score(y_test, y_pred_proba)\n",
        "plt.figure()\n",
        "lw = 3\n",
        "plt.plot(fpr, tpr, color='red',\n",
        "        lw=3, label='ROC curve (area = %0.2f)' % auc)\n",
        "plt.plot([0, 1], [0, 1], color='navy', lw=2, linestyle='--')\n",
        "plt.xlim([0.0, 1.0])\n",
        "plt.ylim([0.0, 1.05])\n",
        "plt.xlabel('False Positive Rate')\n",
        "plt.ylabel('True Positive Rate')\n",
        "plt.title('Receiver operating characteristic example')\n",
        "plt.legend(loc=\"lower right\")\n",
        "plt.show() \n",
        "#0.61 ROC value indicates the model is not good enough at predicting True positive;  same as before = no improvement"
      ],
      "execution_count": null,
      "outputs": [
        {
          "output_type": "display_data",
          "data": {
            "image/png": "[encoded data removed]",
            "text/plain": [
              "<Figure size 720x360 with 1 Axes>"
            ]
          },
          "metadata": {
            "tags": [],
            "needs_background": "light"
          }
        }
      ]
    },
    {
      "cell_type": "code",
      "metadata": {
        "id": "P4_2LAR37vqV"
      },
      "source": [
        ""
      ],
      "execution_count": null,
      "outputs": []
    }
  ]
}