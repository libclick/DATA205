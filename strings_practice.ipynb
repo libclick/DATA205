{
  "nbformat": 4,
  "nbformat_minor": 0,
  "metadata": {
    "colab": {
      "name": "strings_practice.ipynb",
      "provenance": [],
      "collapsed_sections": [],
      "authorship_tag": "ABX9TyN1eR613zzt6k/bexAAADeX",
      "include_colab_link": true
    },
    "kernelspec": {
      "name": "python3",
      "display_name": "Python 3"
    }
  },
  "cells": [
    {
      "cell_type": "markdown",
      "metadata": {
        "id": "view-in-github",
        "colab_type": "text"
      },
      "source": [
        "<a href=\"https://colab.research.google.com/github/libclick/DATA205/blob/main/strings_practice.ipynb\" target=\"_parent\"><img src=\"https://colab.research.google.com/assets/colab-badge.svg\" alt=\"Open In Colab\"/></a>"
      ]
    },
    {
      "cell_type": "code",
      "metadata": {
        "id": "25zwkS1YRcB8"
      },
      "source": [
        "# Import pandas library \n",
        "import pandas as pd \n",
        "import numpy as np"
      ],
      "execution_count": null,
      "outputs": []
    },
    {
      "cell_type": "code",
      "metadata": {
        "colab": {
          "base_uri": "https://localhost:8080/"
        },
        "id": "t7OVTjfHfFk1",
        "outputId": "dd03cb48-6dc9-494c-cd6e-35ed8f27d2a4"
      },
      "source": [
        "#create panda series of active company name\n",
        "active_series = pd.Series(active_names)\n",
        "active_series"
      ],
      "execution_count": null,
      "outputs": [
        {
          "output_type": "execute_result",
          "data": {
            "text/plain": [
              "0     Bogus\n",
              "1    madeup\n",
              "2    Henrys\n",
              "3     Arbys\n",
              "dtype: object"
            ]
          },
          "metadata": {
            "tags": []
          },
          "execution_count": 44
        }
      ]
    },
    {
      "cell_type": "code",
      "metadata": {
        "colab": {
          "base_uri": "https://localhost:8080/",
          "height": 204
        },
        "id": "xdAphu2LgPJV",
        "outputId": "dbacf31a-8908-43bb-bb0d-d13dae04b241"
      },
      "source": [
        "#create towing dataframe sample using list tuples then replace\n",
        "column_tuples = [(\"TCL\", \"notes 222 Henrys\"), (\"TCL\", \"notes 333 HENRYS\"), (\"Henrys\", \"201/2 SomeCompany\"), (\"tcl\", \"201/2 henrys\"), (\"TCL\", \"what tcl 2/12 Bogus\")]\n",
        "towing = pd.DataFrame(column_tuples, columns=[\"story_company\", \"notes\"]) \n",
        "towing"
      ],
      "execution_count": null,
      "outputs": [
        {
          "output_type": "execute_result",
          "data": {
            "text/html": [
              "<div>\n",
              "<style scoped>\n",
              "    .dataframe tbody tr th:only-of-type {\n",
              "        vertical-align: middle;\n",
              "    }\n",
              "\n",
              "    .dataframe tbody tr th {\n",
              "        vertical-align: top;\n",
              "    }\n",
              "\n",
              "    .dataframe thead th {\n",
              "        text-align: right;\n",
              "    }\n",
              "</style>\n",
              "<table border=\"1\" class=\"dataframe\">\n",
              "  <thead>\n",
              "    <tr style=\"text-align: right;\">\n",
              "      <th></th>\n",
              "      <th>story_company</th>\n",
              "      <th>notes</th>\n",
              "    </tr>\n",
              "  </thead>\n",
              "  <tbody>\n",
              "    <tr>\n",
              "      <th>0</th>\n",
              "      <td>TCL</td>\n",
              "      <td>notes 222 Henrys</td>\n",
              "    </tr>\n",
              "    <tr>\n",
              "      <th>1</th>\n",
              "      <td>TCL</td>\n",
              "      <td>notes 333 HENRYS</td>\n",
              "    </tr>\n",
              "    <tr>\n",
              "      <th>2</th>\n",
              "      <td>Henrys</td>\n",
              "      <td>201/2 SomeCompany</td>\n",
              "    </tr>\n",
              "    <tr>\n",
              "      <th>3</th>\n",
              "      <td>tcl</td>\n",
              "      <td>201/2 henrys</td>\n",
              "    </tr>\n",
              "    <tr>\n",
              "      <th>4</th>\n",
              "      <td>TCL</td>\n",
              "      <td>what tcl 2/12 Bogus</td>\n",
              "    </tr>\n",
              "  </tbody>\n",
              "</table>\n",
              "</div>"
            ],
            "text/plain": [
              "  story_company                notes\n",
              "0           TCL     notes 222 Henrys\n",
              "1           TCL     notes 333 HENRYS\n",
              "2        Henrys    201/2 SomeCompany\n",
              "3           tcl         201/2 henrys\n",
              "4           TCL  what tcl 2/12 Bogus"
            ]
          },
          "metadata": {
            "tags": []
          },
          "execution_count": 22
        }
      ]
    },
    {
      "cell_type": "code",
      "metadata": {
        "colab": {
          "base_uri": "https://localhost:8080/"
        },
        "id": "-IPG3ApAa9IT",
        "outputId": "626cf0b6-9576-4aaa-8c50-ed54d57d686a"
      },
      "source": [
        "active_names = ('Bogus', 'madeup', 'Henrys', 'Arbys')\n",
        "\n",
        "print(active_names)"
      ],
      "execution_count": null,
      "outputs": [
        {
          "output_type": "stream",
          "text": [
            "('Bogus', 'madeup', 'Henrys', 'Arbys')\n"
          ],
          "name": "stdout"
        }
      ]
    },
    {
      "cell_type": "code",
      "metadata": {
        "colab": {
          "base_uri": "https://localhost:8080/",
          "height": 204
        },
        "id": "t4KyVLtbcj3J",
        "outputId": "2b9067c6-5447-4d63-b818-7b3f87243481"
      },
      "source": [
        "towing.replace(to_replace=\"TCL\", value=\"HELLO\", inplace=False, limit=None, regex=True, method='pad')"
      ],
      "execution_count": null,
      "outputs": [
        {
          "output_type": "execute_result",
          "data": {
            "text/html": [
              "<div>\n",
              "<style scoped>\n",
              "    .dataframe tbody tr th:only-of-type {\n",
              "        vertical-align: middle;\n",
              "    }\n",
              "\n",
              "    .dataframe tbody tr th {\n",
              "        vertical-align: top;\n",
              "    }\n",
              "\n",
              "    .dataframe thead th {\n",
              "        text-align: right;\n",
              "    }\n",
              "</style>\n",
              "<table border=\"1\" class=\"dataframe\">\n",
              "  <thead>\n",
              "    <tr style=\"text-align: right;\">\n",
              "      <th></th>\n",
              "      <th>story_company</th>\n",
              "      <th>notes</th>\n",
              "    </tr>\n",
              "  </thead>\n",
              "  <tbody>\n",
              "    <tr>\n",
              "      <th>0</th>\n",
              "      <td>HELLO</td>\n",
              "      <td>notes 222 Henrys</td>\n",
              "    </tr>\n",
              "    <tr>\n",
              "      <th>1</th>\n",
              "      <td>HELLO</td>\n",
              "      <td>notes 333 HENRYS</td>\n",
              "    </tr>\n",
              "    <tr>\n",
              "      <th>2</th>\n",
              "      <td>Henrys</td>\n",
              "      <td>201/2 SomeCompany</td>\n",
              "    </tr>\n",
              "    <tr>\n",
              "      <th>3</th>\n",
              "      <td>tcl</td>\n",
              "      <td>201/2 henrys</td>\n",
              "    </tr>\n",
              "    <tr>\n",
              "      <th>4</th>\n",
              "      <td>HELLO</td>\n",
              "      <td>what tcl 2/12 Bogus</td>\n",
              "    </tr>\n",
              "  </tbody>\n",
              "</table>\n",
              "</div>"
            ],
            "text/plain": [
              "  story_company                notes\n",
              "0         HELLO     notes 222 Henrys\n",
              "1         HELLO     notes 333 HENRYS\n",
              "2        Henrys    201/2 SomeCompany\n",
              "3           tcl         201/2 henrys\n",
              "4         HELLO  what tcl 2/12 Bogus"
            ]
          },
          "metadata": {
            "tags": []
          },
          "execution_count": 45
        }
      ]
    },
    {
      "cell_type": "markdown",
      "metadata": {
        "id": "43oe2NesfDRG"
      },
      "source": [
        "# New Section"
      ]
    },
    {
      "cell_type": "code",
      "metadata": {
        "colab": {
          "base_uri": "https://localhost:8080/"
        },
        "id": "SJbIUcNzi0BD",
        "outputId": "87878546-149c-485c-e10f-4b8014c5e23c"
      },
      "source": [
        "  print(active_series.index)"
      ],
      "execution_count": null,
      "outputs": [
        {
          "output_type": "stream",
          "text": [
            "RangeIndex(start=0, stop=4, step=1)\n"
          ],
          "name": "stdout"
        }
      ]
    },
    {
      "cell_type": "code",
      "metadata": {
        "id": "_QCLHyMwSH4L",
        "colab": {
          "base_uri": "https://localhost:8080/",
          "height": 204
        },
        "outputId": "039b75cb-4c2b-4e1c-fa42-4c689d420232"
      },
      "source": [
        "#create towing dataframe sample using list tuples then replace\n",
        "column_tuples = [(\"TCL\", \"notes 222 Henrys\"), (\"TCL\", \"notes 333 HENRYS\"), (\"Henrys\", \"201/2 SomeCompany\"), (\"TCL\", \"201/2 henrys\"), (\"TCL\", \"what tcl 2/12 Bogus\")] \n",
        "towing = pd.DataFrame(column_tuples, columns=[\"story_company\", \"notes\"]) \n",
        "towing"
      ],
      "execution_count": null,
      "outputs": [
        {
          "output_type": "execute_result",
          "data": {
            "text/html": [
              "<div>\n",
              "<style scoped>\n",
              "    .dataframe tbody tr th:only-of-type {\n",
              "        vertical-align: middle;\n",
              "    }\n",
              "\n",
              "    .dataframe tbody tr th {\n",
              "        vertical-align: top;\n",
              "    }\n",
              "\n",
              "    .dataframe thead th {\n",
              "        text-align: right;\n",
              "    }\n",
              "</style>\n",
              "<table border=\"1\" class=\"dataframe\">\n",
              "  <thead>\n",
              "    <tr style=\"text-align: right;\">\n",
              "      <th></th>\n",
              "      <th>story_company</th>\n",
              "      <th>notes</th>\n",
              "    </tr>\n",
              "  </thead>\n",
              "  <tbody>\n",
              "    <tr>\n",
              "      <th>0</th>\n",
              "      <td>TCL</td>\n",
              "      <td>notes 222 Henrys</td>\n",
              "    </tr>\n",
              "    <tr>\n",
              "      <th>1</th>\n",
              "      <td>TCL</td>\n",
              "      <td>notes 333 HENRYS</td>\n",
              "    </tr>\n",
              "    <tr>\n",
              "      <th>2</th>\n",
              "      <td>Henrys</td>\n",
              "      <td>201/2 SomeCompany</td>\n",
              "    </tr>\n",
              "    <tr>\n",
              "      <th>3</th>\n",
              "      <td>TCL</td>\n",
              "      <td>201/2 henrys</td>\n",
              "    </tr>\n",
              "    <tr>\n",
              "      <th>4</th>\n",
              "      <td>TCL</td>\n",
              "      <td>what tcl 2/12 Bogus</td>\n",
              "    </tr>\n",
              "  </tbody>\n",
              "</table>\n",
              "</div>"
            ],
            "text/plain": [
              "  story_company                notes\n",
              "0           TCL     notes 222 Henrys\n",
              "1           TCL     notes 333 HENRYS\n",
              "2        Henrys    201/2 SomeCompany\n",
              "3           TCL         201/2 henrys\n",
              "4           TCL  what tcl 2/12 Bogus"
            ]
          },
          "metadata": {
            "tags": []
          },
          "execution_count": 96
        }
      ]
    },
    {
      "cell_type": "code",
      "metadata": {
        "colab": {
          "base_uri": "https://localhost:8080/",
          "height": 173
        },
        "id": "vXYwIvpZjMLR",
        "outputId": "22f1802f-7742-45bf-99ae-9ef0256d17b2"
      },
      "source": [
        "#create filtered new? towing_fix frames\n",
        "towing_fix = towing[(towing[\"story_company\"] == \"TCL\") | (towing[\"story_company\"] == \"tcl\")]\n",
        "towing_fix"
      ],
      "execution_count": null,
      "outputs": [
        {
          "output_type": "execute_result",
          "data": {
            "text/html": [
              "<div>\n",
              "<style scoped>\n",
              "    .dataframe tbody tr th:only-of-type {\n",
              "        vertical-align: middle;\n",
              "    }\n",
              "\n",
              "    .dataframe tbody tr th {\n",
              "        vertical-align: top;\n",
              "    }\n",
              "\n",
              "    .dataframe thead th {\n",
              "        text-align: right;\n",
              "    }\n",
              "</style>\n",
              "<table border=\"1\" class=\"dataframe\">\n",
              "  <thead>\n",
              "    <tr style=\"text-align: right;\">\n",
              "      <th></th>\n",
              "      <th>story_company</th>\n",
              "      <th>notes</th>\n",
              "    </tr>\n",
              "  </thead>\n",
              "  <tbody>\n",
              "    <tr>\n",
              "      <th>0</th>\n",
              "      <td>TCL</td>\n",
              "      <td>notes 222 Henrys</td>\n",
              "    </tr>\n",
              "    <tr>\n",
              "      <th>1</th>\n",
              "      <td>TCL</td>\n",
              "      <td>notes 333 HENRYS</td>\n",
              "    </tr>\n",
              "    <tr>\n",
              "      <th>3</th>\n",
              "      <td>TCL</td>\n",
              "      <td>201/2 henrys</td>\n",
              "    </tr>\n",
              "    <tr>\n",
              "      <th>4</th>\n",
              "      <td>TCL</td>\n",
              "      <td>what tcl 2/12 Bogus</td>\n",
              "    </tr>\n",
              "  </tbody>\n",
              "</table>\n",
              "</div>"
            ],
            "text/plain": [
              "  story_company                notes\n",
              "0           TCL     notes 222 Henrys\n",
              "1           TCL     notes 333 HENRYS\n",
              "3           TCL         201/2 henrys\n",
              "4           TCL  what tcl 2/12 Bogus"
            ]
          },
          "metadata": {
            "tags": []
          },
          "execution_count": 97
        }
      ]
    },
    {
      "cell_type": "code",
      "metadata": {
        "colab": {
          "base_uri": "https://localhost:8080/"
        },
        "id": "9LM45UgyR1cs",
        "outputId": "d317d485-34b8-4e7e-a96a-5d6cb27a37bd"
      },
      "source": [
        "#perfom string split on notes column, with notes column as a panda \"fix\" #with columns to compare against series\n",
        "\n",
        "#towing_fix[\"notes\"] = towing_fix.notes.str.title()      #capitalize on first letter of each word ??? same warning\n",
        "towing_fix.loc[:,\"notes\"] = towing_fix.loc[:,\"notes\"].str.title()\n",
        "fix = towing_fix[\"notes\"].str.split(\" \", n = 3, expand = True)   \n",
        "print(fix)\n",
        "type(fix)\n",
        "max_row = len(fix)\n",
        "print(max_row)\n"
      ],
      "execution_count": null,
      "outputs": [
        {
          "output_type": "stream",
          "text": [
            "       0       1       2      3\n",
            "0  Notes     222  Henrys   None\n",
            "1  Notes     333  Henrys   None\n",
            "3  201/2  Henrys    None   None\n",
            "4   What     Tcl    2/12  Bogus\n",
            "4\n"
          ],
          "name": "stdout"
        },
        {
          "output_type": "stream",
          "text": [
            "/usr/local/lib/python3.7/dist-packages/pandas/core/indexing.py:1781: SettingWithCopyWarning: \n",
            "A value is trying to be set on a copy of a slice from a DataFrame.\n",
            "Try using .loc[row_indexer,col_indexer] = value instead\n",
            "\n",
            "See the caveats in the documentation: https://pandas.pydata.org/pandas-docs/stable/user_guide/indexing.html#returning-a-view-versus-a-copy\n",
            "  self.obj[item_labels[indexer[info_axis]]] = value\n"
          ],
          "name": "stderr"
        }
      ]
    },
    {
      "cell_type": "code",
      "metadata": {
        "id": "vd-EXBXATqhX",
        "colab": {
          "base_uri": "https://localhost:8080/",
          "height": 173
        },
        "outputId": "4f89a939-f40b-47a6-d3d1-623f44cbeef8"
      },
      "source": [
        "#x = -1\n",
        "#while x<= 4 :\n",
        "#  x = x+1\n",
        "#  y = 0\n",
        "\n",
        "#  if fix[4][3] in active_series:\n",
        "    #dataframe.replace(to_replace = None, value=active_series, inplace = True, limit=None, flag = reIGNORECASE,regex=active_series, method=None, axis=None)\n",
        "fix[2].replace({\"Henrys\": active_series.get(key = active_series, default=None)}, inplace=True)\n",
        "    #fix.replace(to_replace=fix[1][2], value=active_series, inplace=True, limit=400, regex=False, method='pad')[source]\n",
        "    #active_series.str.replace(fix[1][2], 'active', n=- 1, case=reIGNORECASE, flags=0, regex=True)\n",
        "    #x=5 #tostop\n",
        "fix\n",
        "\n"
      ],
      "execution_count": null,
      "outputs": [
        {
          "output_type": "execute_result",
          "data": {
            "text/html": [
              "<div>\n",
              "<style scoped>\n",
              "    .dataframe tbody tr th:only-of-type {\n",
              "        vertical-align: middle;\n",
              "    }\n",
              "\n",
              "    .dataframe tbody tr th {\n",
              "        vertical-align: top;\n",
              "    }\n",
              "\n",
              "    .dataframe thead th {\n",
              "        text-align: right;\n",
              "    }\n",
              "</style>\n",
              "<table border=\"1\" class=\"dataframe\">\n",
              "  <thead>\n",
              "    <tr style=\"text-align: right;\">\n",
              "      <th></th>\n",
              "      <th>0</th>\n",
              "      <th>1</th>\n",
              "      <th>2</th>\n",
              "      <th>3</th>\n",
              "    </tr>\n",
              "  </thead>\n",
              "  <tbody>\n",
              "    <tr>\n",
              "      <th>0</th>\n",
              "      <td>Notes</td>\n",
              "      <td>222</td>\n",
              "      <td>Henrys</td>\n",
              "      <td>None</td>\n",
              "    </tr>\n",
              "    <tr>\n",
              "      <th>1</th>\n",
              "      <td>Notes</td>\n",
              "      <td>333</td>\n",
              "      <td>Henrys</td>\n",
              "      <td>None</td>\n",
              "    </tr>\n",
              "    <tr>\n",
              "      <th>3</th>\n",
              "      <td>201/2</td>\n",
              "      <td>Henrys</td>\n",
              "      <td>None</td>\n",
              "      <td>None</td>\n",
              "    </tr>\n",
              "    <tr>\n",
              "      <th>4</th>\n",
              "      <td>What</td>\n",
              "      <td>Tcl</td>\n",
              "      <td>2/12</td>\n",
              "      <td>Bogus</td>\n",
              "    </tr>\n",
              "  </tbody>\n",
              "</table>\n",
              "</div>"
            ],
            "text/plain": [
              "       0       1       2      3\n",
              "0  Notes     222  Henrys   None\n",
              "1  Notes     333  Henrys   None\n",
              "3  201/2  Henrys    None   None\n",
              "4   What     Tcl    2/12  Bogus"
            ]
          },
          "metadata": {
            "tags": []
          },
          "execution_count": 107
        }
      ]
    }
  ]
}