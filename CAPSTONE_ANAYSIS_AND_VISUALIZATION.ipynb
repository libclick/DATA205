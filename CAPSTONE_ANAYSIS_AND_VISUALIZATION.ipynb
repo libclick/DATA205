{
 "cells": [
  {
   "cell_type": "code",
   "execution_count": 23,
   "metadata": {},
   "outputs": [],
   "source": [
    "import pandas as pd\n",
    "import numpy as np\n",
    "import matplotlib.pyplot as plt\n",
    "plt.rcParams[\"figure.figsize\"] = (10,5)\n",
    "import seaborn as sns\n",
    "import re\n",
    "import json\n",
    "import requests\n",
    "import subprocess\n",
    "import glob\n",
    "import os\n",
    "import geopandas as gpd\n",
    "from geopandas import GeoDataFrame\n",
    "from pygeocoder import Geocoder"
   ]
  },
  {
   "cell_type": "code",
   "execution_count": 24,
   "metadata": {},
   "outputs": [
    {
     "data": {
      "text/html": [
       "<div>\n",
       "<style scoped>\n",
       "    .dataframe tbody tr th:only-of-type {\n",
       "        vertical-align: middle;\n",
       "    }\n",
       "\n",
       "    .dataframe tbody tr th {\n",
       "        vertical-align: top;\n",
       "    }\n",
       "\n",
       "    .dataframe thead th {\n",
       "        text-align: right;\n",
       "    }\n",
       "</style>\n",
       "<table border=\"1\" class=\"dataframe\">\n",
       "  <thead>\n",
       "    <tr style=\"text-align: right;\">\n",
       "      <th></th>\n",
       "      <th>tow_date</th>\n",
       "      <th>tow_reason</th>\n",
       "      <th>storage_company</th>\n",
       "      <th>street</th>\n",
       "      <th>city</th>\n",
       "      <th>geo_location</th>\n",
       "      <th>longitude</th>\n",
       "      <th>latitude</th>\n",
       "      <th>location</th>\n",
       "      <th>block</th>\n",
       "      <th>hh_income</th>\n",
       "      <th>pop_total</th>\n",
       "      <th>pop_black</th>\n",
       "      <th>tract</th>\n",
       "    </tr>\n",
       "  </thead>\n",
       "  <tbody>\n",
       "    <tr>\n",
       "      <th>0</th>\n",
       "      <td>2020-12-11</td>\n",
       "      <td>REPO</td>\n",
       "      <td>Final Notice</td>\n",
       "      <td>21704 Stableview Dr</td>\n",
       "      <td>Gaithersburg</td>\n",
       "      <td>POINT (-77.175624 39.211873)</td>\n",
       "      <td>-77.175624</td>\n",
       "      <td>39.211873</td>\n",
       "      <td>(39.211873, -77.175624)</td>\n",
       "      <td>7001012</td>\n",
       "      <td>208929</td>\n",
       "      <td>1931</td>\n",
       "      <td>39</td>\n",
       "      <td>700101</td>\n",
       "    </tr>\n",
       "    <tr>\n",
       "      <th>1</th>\n",
       "      <td>2021-02-10</td>\n",
       "      <td>REPO</td>\n",
       "      <td>Thomas</td>\n",
       "      <td>7321 Brink Rd</td>\n",
       "      <td>Gaithersburg</td>\n",
       "      <td>POINT (-77.148754 39.211605)</td>\n",
       "      <td>-77.148754</td>\n",
       "      <td>39.211605</td>\n",
       "      <td>(39.211605, -77.148754)</td>\n",
       "      <td>7001013</td>\n",
       "      <td>135208</td>\n",
       "      <td>800</td>\n",
       "      <td>10</td>\n",
       "      <td>700101</td>\n",
       "    </tr>\n",
       "    <tr>\n",
       "      <th>2</th>\n",
       "      <td>2020-02-15</td>\n",
       "      <td>REPO</td>\n",
       "      <td>Greenwood Recovery</td>\n",
       "      <td>21400 Laytonsville Rd</td>\n",
       "      <td>Gaithersburg</td>\n",
       "      <td>POINT (-77.141329 39.207148)</td>\n",
       "      <td>-77.141329</td>\n",
       "      <td>39.207148</td>\n",
       "      <td>(39.207148, -77.141329)</td>\n",
       "      <td>7001032</td>\n",
       "      <td>218173</td>\n",
       "      <td>1017</td>\n",
       "      <td>193</td>\n",
       "      <td>700103</td>\n",
       "    </tr>\n",
       "    <tr>\n",
       "      <th>3</th>\n",
       "      <td>2020-02-04</td>\n",
       "      <td>REPO</td>\n",
       "      <td>Greenwood Recovery</td>\n",
       "      <td>7571 Lindbergh Dr</td>\n",
       "      <td>Gaithersburg</td>\n",
       "      <td>POINT (-77.153158 39.166038)</td>\n",
       "      <td>-77.153158</td>\n",
       "      <td>39.166038</td>\n",
       "      <td>(39.166038, -77.153158)</td>\n",
       "      <td>7001033</td>\n",
       "      <td>172778</td>\n",
       "      <td>3112</td>\n",
       "      <td>345</td>\n",
       "      <td>700103</td>\n",
       "    </tr>\n",
       "    <tr>\n",
       "      <th>4</th>\n",
       "      <td>2020-02-08</td>\n",
       "      <td>NOP</td>\n",
       "      <td>Henrys</td>\n",
       "      <td>17604 Phelps Hill Ln</td>\n",
       "      <td>Derwood</td>\n",
       "      <td>POINT (-77.145388 39.147122)</td>\n",
       "      <td>-77.145388</td>\n",
       "      <td>39.147122</td>\n",
       "      <td>(39.147122, -77.145388)</td>\n",
       "      <td>7001033</td>\n",
       "      <td>172778</td>\n",
       "      <td>3112</td>\n",
       "      <td>345</td>\n",
       "      <td>700103</td>\n",
       "    </tr>\n",
       "  </tbody>\n",
       "</table>\n",
       "</div>"
      ],
      "text/plain": [
       "     tow_date tow_reason     storage_company                 street  \\\n",
       "0  2020-12-11       REPO        Final Notice    21704 Stableview Dr   \n",
       "1  2021-02-10       REPO              Thomas          7321 Brink Rd   \n",
       "2  2020-02-15       REPO  Greenwood Recovery  21400 Laytonsville Rd   \n",
       "3  2020-02-04       REPO  Greenwood Recovery      7571 Lindbergh Dr   \n",
       "4  2020-02-08        NOP              Henrys   17604 Phelps Hill Ln   \n",
       "\n",
       "           city                  geo_location  longitude   latitude  \\\n",
       "0  Gaithersburg  POINT (-77.175624 39.211873) -77.175624  39.211873   \n",
       "1  Gaithersburg  POINT (-77.148754 39.211605) -77.148754  39.211605   \n",
       "2  Gaithersburg  POINT (-77.141329 39.207148) -77.141329  39.207148   \n",
       "3  Gaithersburg  POINT (-77.153158 39.166038) -77.153158  39.166038   \n",
       "4       Derwood  POINT (-77.145388 39.147122) -77.145388  39.147122   \n",
       "\n",
       "                  location    block  hh_income  pop_total  pop_black   tract  \n",
       "0  (39.211873, -77.175624)  7001012     208929       1931         39  700101  \n",
       "1  (39.211605, -77.148754)  7001013     135208        800         10  700101  \n",
       "2  (39.207148, -77.141329)  7001032     218173       1017        193  700103  \n",
       "3  (39.166038, -77.153158)  7001033     172778       3112        345  700103  \n",
       "4  (39.147122, -77.145388)  7001033     172778       3112        345  700103  "
      ]
     },
     "execution_count": 24,
     "metadata": {},
     "output_type": "execute_result"
    }
   ],
   "source": [
    "tow = pd.read_csv('/Users/elizabethclick/Desktop/DATA205/tow_clean.csv')\n",
    "tow.head()"
   ]
  },
  {
   "cell_type": "code",
   "execution_count": 25,
   "metadata": {},
   "outputs": [
    {
     "name": "stdout",
     "output_type": "stream",
     "text": [
      "         tow_date tow_reason storage_company                  street  \\\n",
      "12     2020-08-02        PRV             Tcl  7501 Muncaster Mill Rd   \n",
      "13     2020-08-12       FIRE             Tcl    17612 Phelps Hill Ln   \n",
      "15     2020-12-20       REPO             Tcl  6314 Holland Meadow Ln   \n",
      "76     2020-12-03       REPO             Tcl        9214 Chadburn Pl   \n",
      "77     2020-12-11       REPO             Tcl       9410 Penshurst Ct   \n",
      "...           ...        ...             ...                     ...   \n",
      "18632  2020-04-05        NOP             Tcl       5401 Westbard Ave   \n",
      "18665  2021-01-23       REPO             Tcl      12122 Bentridge Pl   \n",
      "18752  2020-08-13        NOP             Tcl       10524 Westlake Dr   \n",
      "18756  2020-12-10        NOP             Tcl       10405 Westlake Dr   \n",
      "18764  2021-01-23       REPO             Tcl       10518 Westlake Dr   \n",
      "\n",
      "                     city                  geo_location  longitude   latitude  \\\n",
      "12           Gaithersburg  POINT (-77.153568 39.153681) -77.153568  39.153681   \n",
      "13                Derwood  POINT (-77.145158 39.147314) -77.145158  39.147314   \n",
      "15           Gaithersburg  POINT (-77.130064 39.180869) -77.130064  39.180869   \n",
      "76     Montgomery Village  POINT (-77.190497 39.193849) -77.190497  39.193849   \n",
      "77     Montgomery Village  POINT (-77.191969 39.193912) -77.191969  39.193912   \n",
      "...                   ...                           ...        ...        ...   \n",
      "18632            Bethesda  POINT (-77.106682 38.963948) -77.106682  38.963948   \n",
      "18665             Potomac  POINT (-77.192151 39.055388) -77.192151  39.055388   \n",
      "18752            Bethesda   POINT (-77.147313 39.02765) -77.147313  39.027650   \n",
      "18756            Bethesda    POINT (-77.1477 39.026743) -77.147700  39.026743   \n",
      "18764            Bethesda   POINT (-77.14735 39.027521) -77.147350  39.027521   \n",
      "\n",
      "                      location    block  hh_income  pop_total  pop_black  \\\n",
      "12     (39.153681, -77.153568)  7001033     172778       3112        345   \n",
      "13     (39.147314, -77.145158)  7001033     172778       3112        345   \n",
      "15     (39.180869, -77.130064)  7001033     172778       3112        345   \n",
      "76     (39.193849, -77.190497)  7001042      98558       2125        452   \n",
      "77     (39.193912, -77.191969)  7001042      98558       2125        452   \n",
      "...                        ...      ...        ...        ...        ...   \n",
      "18632  (38.963948, -77.106682)  7057013     101250       1809        115   \n",
      "18665  (39.055388, -77.192151)  7060073     250001       2458        173   \n",
      "18752   (39.02765, -77.147313)  7060123      59205       1032        200   \n",
      "18756    (39.026743, -77.1477)  7060123      59205       1032        200   \n",
      "18764   (39.027521, -77.14735)  7060123      59205       1032        200   \n",
      "\n",
      "        tract  \n",
      "12     700103  \n",
      "13     700103  \n",
      "15     700103  \n",
      "76     700104  \n",
      "77     700104  \n",
      "...       ...  \n",
      "18632  705701  \n",
      "18665  706007  \n",
      "18752  706012  \n",
      "18756  706012  \n",
      "18764  706012  \n",
      "\n",
      "[838 rows x 14 columns]\n"
     ]
    }
   ],
   "source": [
    "print(tow[tow[\"storage_company\"] == \"Tcl\"])\n"
   ]
  },
  {
   "cell_type": "code",
   "execution_count": 27,
   "metadata": {},
   "outputs": [
    {
     "name": "stdout",
     "output_type": "stream",
     "text": [
      "Silver Spring         0.423616\n",
      "Gaithersburg          0.162253\n",
      "Germantown            0.124314\n",
      "Rockville             0.106304\n",
      "Montgomery Village    0.087228\n",
      "Bethesda              0.028294\n",
      "Burtonsville          0.016145\n",
      "Takoma Park           0.014707\n",
      "Damascus              0.008366\n",
      "Derwood               0.007939\n",
      "Olney                 0.007087\n",
      "Chevy Chase           0.006128\n",
      "Kensington            0.003037\n",
      "Clarksburg            0.002238\n",
      "Potomac               0.001545\n",
      "Boyds                 0.000320\n",
      "Brookeville           0.000213\n",
      "Poolesville           0.000160\n",
      "Cabin John            0.000053\n",
      "Garrett Park          0.000053\n",
      "Name: city, dtype: float64\n"
     ]
    },
    {
     "data": {
      "text/plain": [
       "Silver Spring         7950\n",
       "Gaithersburg          3045\n",
       "Germantown            2333\n",
       "Rockville             1995\n",
       "Montgomery Village    1637\n",
       "Bethesda               531\n",
       "Burtonsville           303\n",
       "Takoma Park            276\n",
       "Name: city, dtype: int64"
      ]
     },
     "execution_count": 27,
     "metadata": {},
     "output_type": "execute_result"
    }
   ],
   "source": [
    "## WHAT AREAS EXPERIENCE THE MOST TOWING\n",
    "#subset cities with over 200 towings for the year\n",
    "tow_city=tow['city'].value_counts()[tow['city'].value_counts()> 200]\n",
    "city_count = tow[\"city\"].value_counts()\n",
    "city_freq = tow[\"city\"].value_counts(normalize = True)\n",
    "print(city_freq)\n",
    "tow_city"
   ]
  },
  {
   "cell_type": "code",
   "execution_count": 28,
   "metadata": {},
   "outputs": [
    {
     "data": {
      "image/png": "[encoded data removed]",
      "text/plain": [
       "<Figure size 720x360 with 1 Axes>"
      ]
     },
     "metadata": {
      "needs_background": "light"
     },
     "output_type": "display_data"
    }
   ],
   "source": [
    "#visualization of towing by city: Chose top 8 to examine further\n",
    "sns.barplot(x=tow_city.index, y=tow_city)\n",
    "plt.xticks(rotation=45)\n",
    "plt.tight_layout()\n",
    "plt.show()"
   ]
  },
  {
   "cell_type": "code",
   "execution_count": 29,
   "metadata": {},
   "outputs": [
    {
     "name": "stdout",
     "output_type": "stream",
     "text": [
      "NOP                            0.512868\n",
      "PKG                            0.199766\n",
      "PRV                            0.088080\n",
      "REPO                           0.071828\n",
      "FIRE                           0.055150\n",
      "                                 ...   \n",
      "PARKED IN RESERVE              0.000053\n",
      "INOP                           0.000053\n",
      "PARKED IN COMMERCIAL AREA      0.000053\n",
      "ARKED IN HANDICAPPED  W NOP    0.000053\n",
      "TAKING TWO SPACES              0.000053\n",
      "Name: tow_reason, Length: 212, dtype: float64\n"
     ]
    },
    {
     "data": {
      "text/plain": [
       "NOP     0.512868\n",
       "PKG     0.199766\n",
       "PRV     0.088080\n",
       "REPO    0.071828\n",
       "FIRE    0.055150\n",
       "EXP     0.029467\n",
       "Name: tow_reason, dtype: float64"
      ]
     },
     "execution_count": 29,
     "metadata": {},
     "output_type": "execute_result"
    }
   ],
   "source": [
    "##WHAT IS THE MOST COMMON REASON FOR TOWING?\n",
    "tow_code=tow['tow_reason'].value_counts(normalize = True)[tow['tow_reason'].value_counts(normalize = True)> 0.0099]\n",
    "reason_count = tow[\"tow_reason\"].value_counts()\n",
    "reason_freq = tow[\"tow_reason\"].value_counts(normalize = True)\n",
    "print(reason_freq)\n",
    "tow_code\n"
   ]
  },
  {
   "cell_type": "code",
   "execution_count": 30,
   "metadata": {},
   "outputs": [
    {
     "data": {
      "image/png": "[encoded data removed]",
      "text/plain": [
       "<Figure size 720x360 with 1 Axes>"
      ]
     },
     "metadata": {
      "needs_background": "light"
     },
     "output_type": "display_data"
    }
   ],
   "source": [
    "#visualization of towing by reason\n",
    "sns.barplot(x=tow_code.index, y=tow_code)\n",
    "plt.xticks(rotation=45)\n",
    "plt.tight_layout()\n",
    "plt.show()"
   ]
  },
  {
   "cell_type": "code",
   "execution_count": 33,
   "metadata": {},
   "outputs": [
    {
     "name": "stdout",
     "output_type": "stream",
     "text": [
      "Henrys                          0.325039\n",
      "Authorized                      0.161667\n",
      "Prestige                        0.086961\n",
      "Speedy                          0.052592\n",
      "Tcl                             0.044653\n",
      "                                  ...   \n",
      "Kensington Finance              0.000053\n",
      "Flowmax Towing And Transport    0.000053\n",
      "Fitzgerald                      0.000053\n",
      "Avs                             0.000053\n",
      "Customes                        0.000053\n",
      "Name: storage_company, Length: 258, dtype: float64\n"
     ]
    },
    {
     "data": {
      "text/plain": [
       "Henrys        0.325039\n",
       "Authorized    0.161667\n",
       "Prestige      0.086961\n",
       "Speedy        0.052592\n",
       "Name: storage_company, dtype: float64"
      ]
     },
     "execution_count": 33,
     "metadata": {},
     "output_type": "execute_result"
    }
   ],
   "source": [
    "##WHICH COMPANIES ARE TOWING AND ARE THERE DISCREPANCIES?\n",
    "tow_company=tow['storage_company'].value_counts(normalize = True)[tow['storage_company'].value_counts(normalize = True)> 0.05]\n",
    "company_count = tow[\"storage_company\"].value_counts()\n",
    "company_freq = tow[\"storage_company\"].value_counts(normalize = True)\n",
    "print(company_freq)\n",
    "tow_company"
   ]
  },
  {
   "cell_type": "code",
   "execution_count": 34,
   "metadata": {},
   "outputs": [
    {
     "data": {
      "image/png": "[encoded data removed]",
      "text/plain": [
       "<Figure size 720x360 with 1 Axes>"
      ]
     },
     "metadata": {
      "needs_background": "light"
     },
     "output_type": "display_data"
    }
   ],
   "source": [
    "#Visualization of towing by company\n",
    "sns.barplot(x=tow_company.index, y=tow_company)\n",
    "plt.xticks(rotation=45)\n",
    "plt.tight_layout()\n",
    "plt.show()"
   ]
  },
  {
   "cell_type": "code",
   "execution_count": 35,
   "metadata": {},
   "outputs": [
    {
     "name": "stdout",
     "output_type": "stream",
     "text": [
      "         tow_date tow_reason storage_company                  street  \\\n",
      "12     2020-08-02        PRV             Tcl  7501 Muncaster Mill Rd   \n",
      "13     2020-08-12       FIRE             Tcl    17612 Phelps Hill Ln   \n",
      "15     2020-12-20       REPO             Tcl  6314 Holland Meadow Ln   \n",
      "76     2020-12-03       REPO             Tcl        9214 Chadburn Pl   \n",
      "77     2020-12-11       REPO             Tcl       9410 Penshurst Ct   \n",
      "...           ...        ...             ...                     ...   \n",
      "18632  2020-04-05        NOP             Tcl       5401 Westbard Ave   \n",
      "18665  2021-01-23       REPO             Tcl      12122 Bentridge Pl   \n",
      "18752  2020-08-13        NOP             Tcl       10524 Westlake Dr   \n",
      "18756  2020-12-10        NOP             Tcl       10405 Westlake Dr   \n",
      "18764  2021-01-23       REPO             Tcl       10518 Westlake Dr   \n",
      "\n",
      "                     city                  geo_location  longitude   latitude  \\\n",
      "12           Gaithersburg  POINT (-77.153568 39.153681) -77.153568  39.153681   \n",
      "13                Derwood  POINT (-77.145158 39.147314) -77.145158  39.147314   \n",
      "15           Gaithersburg  POINT (-77.130064 39.180869) -77.130064  39.180869   \n",
      "76     Montgomery Village  POINT (-77.190497 39.193849) -77.190497  39.193849   \n",
      "77     Montgomery Village  POINT (-77.191969 39.193912) -77.191969  39.193912   \n",
      "...                   ...                           ...        ...        ...   \n",
      "18632            Bethesda  POINT (-77.106682 38.963948) -77.106682  38.963948   \n",
      "18665             Potomac  POINT (-77.192151 39.055388) -77.192151  39.055388   \n",
      "18752            Bethesda   POINT (-77.147313 39.02765) -77.147313  39.027650   \n",
      "18756            Bethesda    POINT (-77.1477 39.026743) -77.147700  39.026743   \n",
      "18764            Bethesda   POINT (-77.14735 39.027521) -77.147350  39.027521   \n",
      "\n",
      "                      location    block  hh_income  pop_total  pop_black  \\\n",
      "12     (39.153681, -77.153568)  7001033     172778       3112        345   \n",
      "13     (39.147314, -77.145158)  7001033     172778       3112        345   \n",
      "15     (39.180869, -77.130064)  7001033     172778       3112        345   \n",
      "76     (39.193849, -77.190497)  7001042      98558       2125        452   \n",
      "77     (39.193912, -77.191969)  7001042      98558       2125        452   \n",
      "...                        ...      ...        ...        ...        ...   \n",
      "18632  (38.963948, -77.106682)  7057013     101250       1809        115   \n",
      "18665  (39.055388, -77.192151)  7060073     250001       2458        173   \n",
      "18752   (39.02765, -77.147313)  7060123      59205       1032        200   \n",
      "18756    (39.026743, -77.1477)  7060123      59205       1032        200   \n",
      "18764   (39.027521, -77.14735)  7060123      59205       1032        200   \n",
      "\n",
      "        tract  \n",
      "12     700103  \n",
      "13     700103  \n",
      "15     700103  \n",
      "76     700104  \n",
      "77     700104  \n",
      "...       ...  \n",
      "18632  705701  \n",
      "18665  706007  \n",
      "18752  706012  \n",
      "18756  706012  \n",
      "18764  706012  \n",
      "\n",
      "[838 rows x 14 columns]\n"
     ]
    }
   ],
   "source": [
    "#838 companies still listed as Tcl could not be identified\n",
    "print(tow[tow[\"storage_company\"] == \"Tcl\"])"
   ]
  },
  {
   "cell_type": "code",
   "execution_count": 74,
   "metadata": {},
   "outputs": [
    {
     "data": {
      "text/plain": [
       "city\n",
       "Bethesda               531\n",
       "Boyds                    6\n",
       "Brookeville              4\n",
       "Burtonsville           303\n",
       "Cabin John               1\n",
       "Chevy Chase            115\n",
       "Clarksburg              42\n",
       "Damascus               157\n",
       "Derwood                149\n",
       "Gaithersburg          3045\n",
       "Garrett Park             1\n",
       "Germantown            2333\n",
       "Kensington              57\n",
       "Montgomery Village    1637\n",
       "Olney                  133\n",
       "Poolesville              3\n",
       "Potomac                 29\n",
       "Rockville             1995\n",
       "Silver Spring         7950\n",
       "Takoma Park            276\n",
       "dtype: int64"
      ]
     },
     "execution_count": 74,
     "metadata": {},
     "output_type": "execute_result"
    }
   ],
   "source": [
    "#top volume towing companies\n",
    "ct = tow.groupby(\"city\")\n",
    "ct.first()\n",
    "sc = tow.groupby(\"storage_company\")\n",
    "sc.first()\n",
    "ct.size()"
   ]
  },
  {
   "cell_type": "code",
   "execution_count": 79,
   "metadata": {},
   "outputs": [
    {
     "data": {
      "text/plain": [
       "city         storage_company\n",
       "Bethesda     Aau                 3\n",
       "             Aubrun              1\n",
       "             Auburn             30\n",
       "             Auburn Towing      17\n",
       "             Authorized         14\n",
       "                                ..\n",
       "Takoma Park  Ricky               1\n",
       "             Rickys             12\n",
       "             Tcl                13\n",
       "             Thomas              3\n",
       "             Vrs                 1\n",
       "Length: 730, dtype: int64"
      ]
     },
     "execution_count": 79,
     "metadata": {},
     "output_type": "execute_result"
    }
   ],
   "source": [
    "ct_sc = tow.groupby([\"city\", \"storage_company\"])\n",
    "ct_sc.size()\n"
   ]
  },
  {
   "cell_type": "code",
   "execution_count": 80,
   "metadata": {},
   "outputs": [
    {
     "data": {
      "text/html": [
       "<div>\n",
       "<style scoped>\n",
       "    .dataframe tbody tr th:only-of-type {\n",
       "        vertical-align: middle;\n",
       "    }\n",
       "\n",
       "    .dataframe tbody tr th {\n",
       "        vertical-align: top;\n",
       "    }\n",
       "\n",
       "    .dataframe thead th {\n",
       "        text-align: right;\n",
       "    }\n",
       "</style>\n",
       "<table border=\"1\" class=\"dataframe\">\n",
       "  <thead>\n",
       "    <tr style=\"text-align: right;\">\n",
       "      <th></th>\n",
       "      <th>tow_date</th>\n",
       "      <th>tow_reason</th>\n",
       "      <th>storage_company</th>\n",
       "      <th>street</th>\n",
       "      <th>geo_location</th>\n",
       "      <th>longitude</th>\n",
       "      <th>latitude</th>\n",
       "      <th>location</th>\n",
       "      <th>block</th>\n",
       "      <th>hh_income</th>\n",
       "      <th>pop_total</th>\n",
       "      <th>pop_black</th>\n",
       "      <th>tract</th>\n",
       "    </tr>\n",
       "  </thead>\n",
       "  <tbody>\n",
       "    <tr>\n",
       "      <th>0</th>\n",
       "      <td>2020-12-11</td>\n",
       "      <td>REPO</td>\n",
       "      <td>Final Notice</td>\n",
       "      <td>21704 Stableview Dr</td>\n",
       "      <td>POINT (-77.175624 39.211873)</td>\n",
       "      <td>-77.175624</td>\n",
       "      <td>39.211873</td>\n",
       "      <td>(39.211873, -77.175624)</td>\n",
       "      <td>7001012</td>\n",
       "      <td>208929</td>\n",
       "      <td>1931</td>\n",
       "      <td>39</td>\n",
       "      <td>700101</td>\n",
       "    </tr>\n",
       "    <tr>\n",
       "      <th>1</th>\n",
       "      <td>2021-02-10</td>\n",
       "      <td>REPO</td>\n",
       "      <td>Thomas</td>\n",
       "      <td>7321 Brink Rd</td>\n",
       "      <td>POINT (-77.148754 39.211605)</td>\n",
       "      <td>-77.148754</td>\n",
       "      <td>39.211605</td>\n",
       "      <td>(39.211605, -77.148754)</td>\n",
       "      <td>7001013</td>\n",
       "      <td>135208</td>\n",
       "      <td>800</td>\n",
       "      <td>10</td>\n",
       "      <td>700101</td>\n",
       "    </tr>\n",
       "    <tr>\n",
       "      <th>2</th>\n",
       "      <td>2020-02-15</td>\n",
       "      <td>REPO</td>\n",
       "      <td>Greenwood Recovery</td>\n",
       "      <td>21400 Laytonsville Rd</td>\n",
       "      <td>POINT (-77.141329 39.207148)</td>\n",
       "      <td>-77.141329</td>\n",
       "      <td>39.207148</td>\n",
       "      <td>(39.207148, -77.141329)</td>\n",
       "      <td>7001032</td>\n",
       "      <td>218173</td>\n",
       "      <td>1017</td>\n",
       "      <td>193</td>\n",
       "      <td>700103</td>\n",
       "    </tr>\n",
       "    <tr>\n",
       "      <th>3</th>\n",
       "      <td>2020-02-04</td>\n",
       "      <td>REPO</td>\n",
       "      <td>Greenwood Recovery</td>\n",
       "      <td>7571 Lindbergh Dr</td>\n",
       "      <td>POINT (-77.153158 39.166038)</td>\n",
       "      <td>-77.153158</td>\n",
       "      <td>39.166038</td>\n",
       "      <td>(39.166038, -77.153158)</td>\n",
       "      <td>7001033</td>\n",
       "      <td>172778</td>\n",
       "      <td>3112</td>\n",
       "      <td>345</td>\n",
       "      <td>700103</td>\n",
       "    </tr>\n",
       "    <tr>\n",
       "      <th>6</th>\n",
       "      <td>2020-06-16</td>\n",
       "      <td>ABN</td>\n",
       "      <td>Vrs</td>\n",
       "      <td>7411 Lindbergh Dr</td>\n",
       "      <td>POINT (-77.155582 39.163818)</td>\n",
       "      <td>-77.155582</td>\n",
       "      <td>39.163818</td>\n",
       "      <td>(39.163818, -77.155582)</td>\n",
       "      <td>7001033</td>\n",
       "      <td>172778</td>\n",
       "      <td>3112</td>\n",
       "      <td>345</td>\n",
       "      <td>700103</td>\n",
       "    </tr>\n",
       "    <tr>\n",
       "      <th>...</th>\n",
       "      <td>...</td>\n",
       "      <td>...</td>\n",
       "      <td>...</td>\n",
       "      <td>...</td>\n",
       "      <td>...</td>\n",
       "      <td>...</td>\n",
       "      <td>...</td>\n",
       "      <td>...</td>\n",
       "      <td>...</td>\n",
       "      <td>...</td>\n",
       "      <td>...</td>\n",
       "      <td>...</td>\n",
       "      <td>...</td>\n",
       "    </tr>\n",
       "    <tr>\n",
       "      <th>7493</th>\n",
       "      <td>2020-08-19</td>\n",
       "      <td>NOP</td>\n",
       "      <td>Henrys</td>\n",
       "      <td>19134 Clover Meadow Pl</td>\n",
       "      <td>POINT (-77.232069 39.170223)</td>\n",
       "      <td>-77.232069</td>\n",
       "      <td>39.170223</td>\n",
       "      <td>(39.170223, -77.232069)</td>\n",
       "      <td>7008331</td>\n",
       "      <td>141597</td>\n",
       "      <td>1678</td>\n",
       "      <td>381</td>\n",
       "      <td>700833</td>\n",
       "    </tr>\n",
       "    <tr>\n",
       "      <th>7494</th>\n",
       "      <td>2020-12-11</td>\n",
       "      <td>REPO</td>\n",
       "      <td>Tcl</td>\n",
       "      <td>11207 White Barn Ct</td>\n",
       "      <td>POINT (-77.231286 39.170776)</td>\n",
       "      <td>-77.231286</td>\n",
       "      <td>39.170776</td>\n",
       "      <td>(39.170776, -77.231286)</td>\n",
       "      <td>7008331</td>\n",
       "      <td>141597</td>\n",
       "      <td>1678</td>\n",
       "      <td>381</td>\n",
       "      <td>700833</td>\n",
       "    </tr>\n",
       "    <tr>\n",
       "      <th>7496</th>\n",
       "      <td>2021-01-01</td>\n",
       "      <td>FIRE</td>\n",
       "      <td>Henrys</td>\n",
       "      <td>11210 White Barn Ct</td>\n",
       "      <td>POINT (-77.231475 39.170742)</td>\n",
       "      <td>-77.231475</td>\n",
       "      <td>39.170742</td>\n",
       "      <td>(39.170742, -77.231475)</td>\n",
       "      <td>7008331</td>\n",
       "      <td>141597</td>\n",
       "      <td>1678</td>\n",
       "      <td>381</td>\n",
       "      <td>700833</td>\n",
       "    </tr>\n",
       "    <tr>\n",
       "      <th>7497</th>\n",
       "      <td>2021-01-20</td>\n",
       "      <td>REPO</td>\n",
       "      <td>Thomas</td>\n",
       "      <td>11141 Black Forest Way</td>\n",
       "      <td>POINT (-77.230689 39.170265)</td>\n",
       "      <td>-77.230689</td>\n",
       "      <td>39.170265</td>\n",
       "      <td>(39.170265, -77.230689)</td>\n",
       "      <td>7008331</td>\n",
       "      <td>141597</td>\n",
       "      <td>1678</td>\n",
       "      <td>381</td>\n",
       "      <td>700833</td>\n",
       "    </tr>\n",
       "    <tr>\n",
       "      <th>9374</th>\n",
       "      <td>2020-12-22</td>\n",
       "      <td>ABN</td>\n",
       "      <td>Abn</td>\n",
       "      <td>5040 Brookeville Rd</td>\n",
       "      <td>POINT (-77.102121 39.184787)</td>\n",
       "      <td>-77.102121</td>\n",
       "      <td>39.184787</td>\n",
       "      <td>(39.184787, -77.102121)</td>\n",
       "      <td>7013071</td>\n",
       "      <td>178365</td>\n",
       "      <td>4409</td>\n",
       "      <td>483</td>\n",
       "      <td>701307</td>\n",
       "    </tr>\n",
       "  </tbody>\n",
       "</table>\n",
       "<p>3045 rows × 13 columns</p>\n",
       "</div>"
      ],
      "text/plain": [
       "        tow_date tow_reason     storage_company                  street  \\\n",
       "0     2020-12-11       REPO        Final Notice     21704 Stableview Dr   \n",
       "1     2021-02-10       REPO              Thomas           7321 Brink Rd   \n",
       "2     2020-02-15       REPO  Greenwood Recovery   21400 Laytonsville Rd   \n",
       "3     2020-02-04       REPO  Greenwood Recovery       7571 Lindbergh Dr   \n",
       "6     2020-06-16        ABN                 Vrs       7411 Lindbergh Dr   \n",
       "...          ...        ...                 ...                     ...   \n",
       "7493  2020-08-19        NOP              Henrys  19134 Clover Meadow Pl   \n",
       "7494  2020-12-11       REPO                 Tcl     11207 White Barn Ct   \n",
       "7496  2021-01-01       FIRE              Henrys     11210 White Barn Ct   \n",
       "7497  2021-01-20       REPO              Thomas  11141 Black Forest Way   \n",
       "9374  2020-12-22        ABN                 Abn     5040 Brookeville Rd   \n",
       "\n",
       "                      geo_location  longitude   latitude  \\\n",
       "0     POINT (-77.175624 39.211873) -77.175624  39.211873   \n",
       "1     POINT (-77.148754 39.211605) -77.148754  39.211605   \n",
       "2     POINT (-77.141329 39.207148) -77.141329  39.207148   \n",
       "3     POINT (-77.153158 39.166038) -77.153158  39.166038   \n",
       "6     POINT (-77.155582 39.163818) -77.155582  39.163818   \n",
       "...                            ...        ...        ...   \n",
       "7493  POINT (-77.232069 39.170223) -77.232069  39.170223   \n",
       "7494  POINT (-77.231286 39.170776) -77.231286  39.170776   \n",
       "7496  POINT (-77.231475 39.170742) -77.231475  39.170742   \n",
       "7497  POINT (-77.230689 39.170265) -77.230689  39.170265   \n",
       "9374  POINT (-77.102121 39.184787) -77.102121  39.184787   \n",
       "\n",
       "                     location    block  hh_income  pop_total  pop_black  \\\n",
       "0     (39.211873, -77.175624)  7001012     208929       1931         39   \n",
       "1     (39.211605, -77.148754)  7001013     135208        800         10   \n",
       "2     (39.207148, -77.141329)  7001032     218173       1017        193   \n",
       "3     (39.166038, -77.153158)  7001033     172778       3112        345   \n",
       "6     (39.163818, -77.155582)  7001033     172778       3112        345   \n",
       "...                       ...      ...        ...        ...        ...   \n",
       "7493  (39.170223, -77.232069)  7008331     141597       1678        381   \n",
       "7494  (39.170776, -77.231286)  7008331     141597       1678        381   \n",
       "7496  (39.170742, -77.231475)  7008331     141597       1678        381   \n",
       "7497  (39.170265, -77.230689)  7008331     141597       1678        381   \n",
       "9374  (39.184787, -77.102121)  7013071     178365       4409        483   \n",
       "\n",
       "       tract  \n",
       "0     700101  \n",
       "1     700101  \n",
       "2     700103  \n",
       "3     700103  \n",
       "6     700103  \n",
       "...      ...  \n",
       "7493  700833  \n",
       "7494  700833  \n",
       "7496  700833  \n",
       "7497  700833  \n",
       "9374  701307  \n",
       "\n",
       "[3045 rows x 13 columns]"
      ]
     },
     "execution_count": 80,
     "metadata": {},
     "output_type": "execute_result"
    }
   ],
   "source": [
    "#Group by city, a column, then get group Gaithersburg, a column value\n",
    "df_city = tow.groupby(\"city\")\n",
    "df_city.first()\n",
    "df_city.get_group(\"Gaithersburg\")"
   ]
  },
  {
   "cell_type": "code",
   "execution_count": null,
   "metadata": {},
   "outputs": [],
   "source": []
  },
  {
   "cell_type": "code",
   "execution_count": 81,
   "metadata": {},
   "outputs": [
    {
     "data": {
      "text/plain": [
       "{'Bethesda',\n",
       " 'Burtonsville',\n",
       " 'Gaithersburg',\n",
       " 'Germantown',\n",
       " 'Montgomery Village',\n",
       " 'Rockville',\n",
       " 'Silver Spring',\n",
       " 'Takoma Park'}"
      ]
     },
     "execution_count": 81,
     "metadata": {},
     "output_type": "execute_result"
    }
   ],
   "source": [
    "#top 8 cities\n",
    "city_set = set(tow_city.index)\n",
    "city_set"
   ]
  },
  {
   "cell_type": "code",
   "execution_count": 82,
   "metadata": {},
   "outputs": [
    {
     "data": {
      "text/plain": [
       "{'EXP', 'FIRE', 'NOP', 'PKG', 'PRV', 'REPO'}"
      ]
     },
     "execution_count": 82,
     "metadata": {},
     "output_type": "execute_result"
    }
   ],
   "source": [
    "#top tow reasons\n",
    "reason_set = set(tow_code.index)\n",
    "reason_set"
   ]
  },
  {
   "cell_type": "code",
   "execution_count": 83,
   "metadata": {},
   "outputs": [
    {
     "data": {
      "text/plain": [
       "{'Authorized', 'Henrys', 'Prestige', 'Speedy'}"
      ]
     },
     "execution_count": 83,
     "metadata": {},
     "output_type": "execute_result"
    }
   ],
   "source": [
    "#top volume towing companies\n",
    "company_set = set(tow_company.index)\n",
    "company_set"
   ]
  },
  {
   "cell_type": "code",
   "execution_count": null,
   "metadata": {},
   "outputs": [],
   "source": [
    "#Look at where individual companies are towing\n",
    "\n",
    "while x < rowcount :\n",
    "    x = -1\n",
    "    rowcount = len(tow)-1\n",
    "for name in city_set :\n",
    "    word_set = set(top_names)\n",
    "\n",
    "while x < rowcount :\n",
    "    x = x+1\n",
    "    if tow.iloc[x,4] in city_set :\n",
    "        string_to_be_searched = str(towing.iloc[x,3])\n",
    "        for w in string_to_be_searched.split():\n",
    "            if w in word_set :\n",
    "                towing.iloc[x,2] = w\n",
    "                print(\"%s in string\" % w)    \n",
    "            else :\n",
    "                print(\"not found \", w)\n",
    "    else :\n",
    "        print(x, \"is ok\")\n",
    "        \n",
    "towing.head(50)\n",
    "print(tow[\"storage_company\" ==\"Tcl\"], tow[\"notes\"])\n"
   ]
  },
  {
   "cell_type": "code",
   "execution_count": null,
   "metadata": {},
   "outputs": [],
   "source": []
  },
  {
   "cell_type": "code",
   "execution_count": null,
   "metadata": {},
   "outputs": [],
   "source": []
  }
 ],
 "metadata": {
  "kernelspec": {
   "display_name": "Python 3",
   "language": "python",
   "name": "python3"
  },
  "language_info": {
   "codemirror_mode": {
    "name": "ipython",
    "version": 3
   },
   "file_extension": ".py",
   "mimetype": "text/x-python",
   "name": "python",
   "nbconvert_exporter": "python",
   "pygments_lexer": "ipython3",
   "version": "3.8.5"
  }
 },
 "nbformat": 4,
 "nbformat_minor": 4
}
